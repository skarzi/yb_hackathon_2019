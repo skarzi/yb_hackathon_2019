{
 "cells": [
  {
   "cell_type": "code",
   "execution_count": null,
   "metadata": {},
   "outputs": [],
   "source": [
    "%load_ext autoreload\n",
    "%autoreload 2\n",
    "\n",
    "import os\n",
    "import sys\n",
    "import io\n",
    "from pprint import pprint\n",
    "\n",
    "from google.cloud import vision\n",
    "from google.cloud.vision import types\n",
    "\n",
    "from context import backend\n",
    "from backend.apps.detections import fix_ros_path  # needs to be before cv2 import\n",
    "import cv2"
   ]
  },
  {
   "cell_type": "code",
   "execution_count": null,
   "metadata": {},
   "outputs": [],
   "source": [
    "FILE_PATH = '/home/matt/polybox/Fotos/new.jpg'\n",
    "def read_img_bin(path):\n",
    "    with io.open(path, 'rb') as image_file:\n",
    "        return image_file.read()\n",
    "    \n",
    "def read_img_cv(path):\n",
    "    return cv2.imread(path)\n",
    "    \n",
    "img_cv = read_img_cv(FILE_PATH)\n",
    "img_bin = read_img_bin(FILE_PATH)\n",
    "img = image_resize(img_cv, height=700)"
   ]
  },
  {
   "cell_type": "code",
   "execution_count": null,
   "metadata": {},
   "outputs": [],
   "source": [
    "from backend.apps.detections.gcv_api import VisionClient \n",
    "vision_client = VisionClient()"
   ]
  },
  {
   "cell_type": "code",
   "execution_count": null,
   "metadata": {},
   "outputs": [],
   "source": [
    "objects = vision_client.localize_objects(img_bin)\n",
    "#objects_dict_coords_to_pic(objects, img.shape)"
   ]
  },
  {
   "cell_type": "code",
   "execution_count": null,
   "metadata": {},
   "outputs": [],
   "source": [
    "objects"
   ]
  },
  {
   "cell_type": "code",
   "execution_count": null,
   "metadata": {},
   "outputs": [],
   "source": [
    "pprint(objects)"
   ]
  },
  {
   "cell_type": "code",
   "execution_count": null,
   "metadata": {},
   "outputs": [],
   "source": [
    "from backend.apps.detections.cv_helpers import image_resize\n",
    "from backend.apps.detections.gcv_api import bb_norm_to_corner_pixels, objects_dict_coords_to_pic"
   ]
  },
  {
   "cell_type": "code",
   "execution_count": null,
   "metadata": {},
   "outputs": [],
   "source": [
    "\"\"\"Plotting\"\"\"\n",
    "\n",
    "font                   = cv2.FONT_HERSHEY_DUPLEX\n",
    "fontScale              = 0.5\n",
    "fontColor              = (255, 255, 255)\n",
    "lineType               = 1\n",
    "\n",
    "img_cv = read_img_cv(FILE_PATH)\n",
    "img_bin = read_img_bin(FILE_PATH)\n",
    "img = image_resize(img_cv, height=700)\n",
    "\n",
    "for pred in objects:\n",
    "    bbox_pix = pred['bb_vertices']  \n",
    "    top_left_x, top_left_y = bbox_pix[0]['x'], bbox_pix[0]['y']\n",
    "    bottom_right_x, bottom_right_y = bbox_pix[2]['x'], bbox_pix[2]['y']\n",
    "    img = cv2.rectangle(img, (top_left_x, top_left_y), (bottom_right_x, bottom_right_y), (0,0,255), 2)\n",
    "    img = cv2.putText(img,f'{pred[\"obj_name\"]}, acc: {round(pred[\"confidence\"], 2)}', \n",
    "        (top_left_x, top_left_y-5), \n",
    "        font, \n",
    "        fontScale,\n",
    "        fontColor,\n",
    "        lineType)\n",
    "    \n",
    "cv2.imshow('img', img)\n",
    "cv2.waitKey(0)\n",
    "cv2.destroyAllWindows()"
   ]
  },
  {
   "cell_type": "code",
   "execution_count": null,
   "metadata": {},
   "outputs": [],
   "source": []
  }
 ],
 "metadata": {
  "kernelspec": {
   "display_name": "ybhack_env",
   "language": "python",
   "name": "ybhack"
  },
  "language_info": {
   "codemirror_mode": {
    "name": "ipython",
    "version": 3
   },
   "file_extension": ".py",
   "mimetype": "text/x-python",
   "name": "python",
   "nbconvert_exporter": "python",
   "pygments_lexer": "ipython3",
   "version": "3.7.4"
  }
 },
 "nbformat": 4,
 "nbformat_minor": 2
}
