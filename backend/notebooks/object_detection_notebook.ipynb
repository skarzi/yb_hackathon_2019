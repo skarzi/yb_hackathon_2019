{
 "cells": [
  {
   "cell_type": "code",
   "execution_count": null,
   "metadata": {},
   "outputs": [],
   "source": [
    "%load_ext autoreload\n",
    "%autoreload 2\n",
    "\n",
    "import os\n",
    "import sys\n",
    "import io\n",
    "from pprint import pprint\n",
    "from time import time\n",
    "from pprint import pprint\n",
    "\n",
    "from google.cloud import vision\n",
    "from google.cloud.vision import types\n",
    "import matplotlib.pyplot as plt\n",
    "\n",
    "from context import backend\n",
    "from backend.apps.detections import fix_ros_path  # needs to be before cv2 import\n",
    "fix_ros_path.fix_ros_cv_path()\n",
    "from backend.apps.detections.gcv_api import VisionClient \n",
    "from backend.apps.detections.cv_helpers import image_resize\n",
    "from backend.apps.detections.gcv_api import bb_norm_to_corner_pixels, objects_dict_coords_to_pic\n",
    "from backend.apps.detections import object_detection\n",
    "import cv2\n",
    "import torch\n",
    "from PIL import Image"
   ]
  },
  {
   "cell_type": "code",
   "execution_count": null,
   "metadata": {},
   "outputs": [],
   "source": [
    "DIR = '/home/matt/polybox/Fotos'\n",
    "FILE_NAME = 'lessdark.jpg'\n",
    "FILE_PATH = os.path.join(DIR, FILE_NAME)\n",
    "\n",
    "def read_img_bin(path):\n",
    "    with io.open(path, 'rb') as image_file:\n",
    "        return image_file.read()\n",
    "    \n",
    "def read_img_cv(path):\n",
    "    return cv2.imread(path)"
   ]
  },
  {
   "cell_type": "code",
   "execution_count": null,
   "metadata": {},
   "outputs": [],
   "source": [
    "def demo_gcp_demo():\n",
    "    DIR = '/home/matt/polybox/Fotos/Yb/'\n",
    "    FILES = ['less.jpg']\n",
    "\n",
    "    files = FILES if len(FILES) != 0 else os.listdir(DIR)\n",
    "    paths = [os.path.join(DIR, f) for f in files]\n",
    "\n",
    "    for path in paths:\n",
    "        print(path)\n",
    "        img_cv = read_img_cv(path)\n",
    "        img_bin = read_img_bin(path)\n",
    "        vision_client = VisionClient()\n",
    "        objects = vision_client.localize_objects(img_bin)\n",
    "        # objects_dict_coords_to_pic(objects, img_cv.shape)\n",
    "        pprint(objects)\n",
    "        show_detections(img_cv, objects)\n",
    "        cv2.waitKey(0)\n",
    "    cv2.destroyAllWindows()"
   ]
  },
  {
   "cell_type": "code",
   "execution_count": null,
   "metadata": {
    "scrolled": false
   },
   "outputs": [],
   "source": [
    "torch.cuda.empty_cache()\n",
    "img_path = '/home/matt/polybox/Fotos/Yb/20191116_010804.jpg'\n",
    "img_pil = Image.open(img_path)\n",
    "objects = object_detection.detect_objects(img_pil)\n",
    "boxes, pred_cls, pred_score = object_detection.get_prediction(img_pil, 0.5)\n",
    "pprint(objects)"
   ]
  },
  {
   "cell_type": "code",
   "execution_count": null,
   "metadata": {},
   "outputs": [],
   "source": [
    "fig, ax = plt.subplots()\n",
    "for det in objects:\n",
    "    vertices = det['bb_vertices']\n",
    "    \n",
    "    pprint(vertices)\n",
    "    #vertices +=  det['bb_vertices'][0]\n",
    "    x = [vertex['x'] for vertex in vertices]\n",
    "    y = [vertex['y'] for vertex in vertices]\n",
    "    ax.plot(x, y)\n",
    "    "
   ]
  },
  {
   "cell_type": "code",
   "execution_count": null,
   "metadata": {},
   "outputs": [],
   "source": [
    "object_detection.plot_results(img_pil, threshold=0.2)"
   ]
  },
  {
   "cell_type": "code",
   "execution_count": null,
   "metadata": {},
   "outputs": [],
   "source": []
  }
 ],
 "metadata": {
  "kernelspec": {
   "display_name": "ybhack_env",
   "language": "python",
   "name": "ybhack"
  },
  "language_info": {
   "codemirror_mode": {
    "name": "ipython",
    "version": 3
   },
   "file_extension": ".py",
   "mimetype": "text/x-python",
   "name": "python",
   "nbconvert_exporter": "python",
   "pygments_lexer": "ipython3",
   "version": "3.7.4"
  }
 },
 "nbformat": 4,
 "nbformat_minor": 2
}
